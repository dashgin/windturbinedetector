{
 "cells": [
  {
   "cell_type": "code",
   "execution_count": 128,
   "metadata": {},
   "outputs": [],
   "source": [
    "import pandas as pd\n",
    "import random"
   ]
  },
  {
   "cell_type": "code",
   "execution_count": 129,
   "metadata": {},
   "outputs": [
    {
     "name": "stdout",
     "output_type": "stream",
     "text": [
      "337.7\n"
     ]
    }
   ],
   "source": [
    "df = pd.read_csv('/home/xd/Hackathon/files/azerbaijan 2021-03-05 to 2022-03-12.csv')\n",
    "print(df['winddir'].max()\n",
    ")"
   ]
  },
  {
   "cell_type": "code",
   "execution_count": 131,
   "metadata": {},
   "outputs": [],
   "source": [
    "# BASE FACTORS: Wind Speed, Wind Direction, Transportation cost\n",
    "# ADDITIONAL FACTORS: Wind Gust, Conditions\n",
    "df = df[\n",
    "    [\n",
    "        \"name\",\n",
    "        \"datetime\",\n",
    "        \"windspeed\",\n",
    "        \"winddir\",\n",
    "        \"windgust\",\n",
    "        \"conditions\",\n",
    "    ]\n",
    "]\n",
    "\n",
    "# inputted_name = input(\"Enter your name: \")\n",
    "# inputted_datetime = input(\"Enter your date of birth: \")\n",
    "# inputted_windgust = input(\"Enter your windgust: \")\n",
    "# inputted_windspeed = input(\"Enter your windspeed: \")\n",
    "# inputted_winddir = input(\"Enter your winddir: \")\n",
    "# inputted_conditions = input(\"Enter your conditions: \")\n",
    "\n",
    "# df.columns.rename(\n",
    "#     {\n",
    "#         \"name\": inputted_name or \"name\",\n",
    "#         \"datetime\": inputted_datetime or \"datetime\",\n",
    "#         \"windgust\": inputted_windgust or \"windgust\",\n",
    "#         \"windspeed\": inputted_windspeed or \"windspeed\",\n",
    "#         \"winddir\": inputted_winddir or \"winddir\",\n",
    "#         \"conditions\": inputted_conditions or \"conditions\",\n",
    "#     },\n",
    "#     inplace=True,\n",
    "# )\n",
    "\n",
    "\n",
    "condition_list = df[\"conditions\"].unique()\n"
   ]
  },
  {
   "cell_type": "code",
   "execution_count": 2,
   "metadata": {},
   "outputs": [
    {
     "data": {
      "text/plain": [
       "array(['40.6233,48.6543', '41.1952,47.1973', '40.6556,47.7466',\n",
       "       '39.2206,45.4395', '40.1051,46.0396'], dtype=object)"
      ]
     },
     "execution_count": 2,
     "metadata": {},
     "output_type": "execute_result"
    }
   ],
   "source": [
    "# Preprocessing\n",
    "import pandas as pd\n",
    "data = pd.read_csv('data.csv')\n",
    "l = data['location'].unique()\n",
    "l"
   ]
  },
  {
   "cell_type": "code",
   "execution_count": 135,
   "metadata": {},
   "outputs": [],
   "source": [
    "#  Randomize the data\n",
    "def get_randomized_number(start, end):\n",
    "    \"\"\"\n",
    "    Returns a random number between start and end with 2 decimal places\n",
    "    \"\"\"\n",
    "    num = random.uniform(start,end)\n",
    "    \n",
    "    if num>360:\n",
    "        num = num-360\n",
    "    return round(num,2)\n",
    "df['windspeed'] = df['windspeed'].apply(lambda x: get_randomized_number(x-5, x+5))\n",
    "df['winddir'] = df['winddir'].apply(lambda x: get_randomized_number(x+70, x+100))\n",
    "\n",
    "# df[\"conditions\"] = df[\"conditions\"].apply(lambda x: random.choice(condition_list))\n"
   ]
  },
  {
   "cell_type": "code",
   "execution_count": 136,
   "metadata": {},
   "outputs": [],
   "source": [
    "\n",
    "df['name'] = df['location'].apply(lambda x: 'Sheki')\n",
    "df.to_csv('data_sheki.csv', index=False)"
   ]
  },
  {
   "cell_type": "code",
   "execution_count": 62,
   "metadata": {},
   "outputs": [],
   "source": [
    "df_shamakhi = pd.read_csv('data_shamakhi.csv')\n",
    "df_sheki = pd.read_csv('data_sheki.csv')\n",
    "df_goychay = pd.read_csv('data_goychay.csv')\n",
    "df_nakhcivan = pd.read_csv('data_nakhcivan.csv')\n",
    "df_kalbacar = pd.read_csv('data_kalbacar.csv')\n",
    "df_all = pd.concat([df_shamakhi, df_sheki, df_goychay, df_nakhcivan, df_kalbacar])\n",
    "df_all.reset_index( inplace=True)\n",
    "df_all['index'] = df_all.index\n",
    "df_all.to_csv('data_all.csv', index=False)\n"
   ]
  },
  {
   "cell_type": "code",
   "execution_count": null,
   "metadata": {},
   "outputs": [],
   "source": []
  }
 ],
 "metadata": {
  "interpreter": {
   "hash": "49d3de3fe2b37e0437bdccb735767ae2fc5fedafe3b2766e301c4fc1f5e60570"
  },
  "kernelspec": {
   "display_name": "Python 3.9.5",
   "language": "python",
   "name": "python3"
  },
  "language_info": {
   "codemirror_mode": {
    "name": "ipython",
    "version": 3
   },
   "file_extension": ".py",
   "mimetype": "text/x-python",
   "name": "python",
   "nbconvert_exporter": "python",
   "pygments_lexer": "ipython3",
   "version": "3.10.2"
  },
  "orig_nbformat": 4
 },
 "nbformat": 4,
 "nbformat_minor": 2
}
